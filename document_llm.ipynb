{
 "cells": [
  {
   "cell_type": "code",
   "execution_count": 1,
   "metadata": {},
   "outputs": [
    {
     "name": "stdout",
     "output_type": "stream",
     "text": [
      "\n",
      "\u001b[1m[\u001b[0m\u001b[34;49mnotice\u001b[0m\u001b[1;39;49m]\u001b[0m\u001b[39;49m A new release of pip available: \u001b[0m\u001b[31;49m22.3.1\u001b[0m\u001b[39;49m -> \u001b[0m\u001b[32;49m23.2.1\u001b[0m\n",
      "\u001b[1m[\u001b[0m\u001b[34;49mnotice\u001b[0m\u001b[1;39;49m]\u001b[0m\u001b[39;49m To update, run: \u001b[0m\u001b[32;49mpip install --upgrade pip\u001b[0m\n"
     ]
    }
   ],
   "source": [
    "!pip install  openai langchain chromadb unstructured -q"
   ]
  },
  {
   "cell_type": "code",
   "execution_count": 8,
   "metadata": {},
   "outputs": [
    {
     "data": {
      "text/plain": [
       "599"
      ]
     },
     "execution_count": 8,
     "metadata": {},
     "output_type": "execute_result"
    }
   ],
   "source": [
    "from langchain.document_loaders.csv_loader import CSVLoader\n",
    "\n",
    "def load_csvs(directory):\n",
    "    loader = CSVLoader(directory)\n",
    "    csv_data = loader.load()\n",
    "    return csv_data\n",
    "\n",
    "csv_data = load_csvs('data/Investors_v2.csv')\n",
    "len(csv_data)\n"
   ]
  },
  {
   "cell_type": "code",
   "execution_count": 9,
   "metadata": {},
   "outputs": [
    {
     "name": "stdout",
     "output_type": "stream",
     "text": [
      "page_content='\\ufeffInvestor Name: Frank M. Creer\\nFund from Fund Master: Zone Ventures\\nIndustry: Commercial Services,Software\\nIndustry Copy: Software and Information Services\\nVertical: Industrials,TMT\\nInvestor Type: Venture Capital\\nWebsite: www.zonevc.com\\nPreferred Geography (from Fund from Fund Master): United States\\nPreferred Investment Stage: Early Stage,Late Stage,PE Growth/Expansion,Seed\\nPreferred Investment Type: Convertible Debt,SAFE,Debt\\nMax Check size: 2.50\\nMin check size: 1.00\\nHQ Location: Menlo Park, CA\\nURL (from Fund from Fund Master): www.zonevc.com\\nPreferred TAM: Less than a Billion\\nImpact Investor: No\\n% Diversity in Managers/LPs: 25%\\nAge of Fund/Investor Since (Years): 20.0\\nNumber of investments (Portfolio Size): 20\\nReturn Expectations: 10X and above\\nExit Strategy Preference: IPO\\nNetwork and Support Resources: Heavily Supportive\\nDue diligence process: Heavily Involved\\nDecision-making timeline: Months\\nReputation: 4\\nPortfolio Success Track Record (% Exits): 2%\\nManagers/LPs Turnover: High\\n% Portfolio Diversity: 5%\\nDo follow-on rounds?: Yes' metadata={'source': 'data/Investors_v2.csv', 'row': 0}\n"
     ]
    }
   ],
   "source": [
    "print(csv_data[0])"
   ]
  },
  {
   "cell_type": "code",
   "execution_count": 6,
   "metadata": {},
   "outputs": [
    {
     "name": "stdout",
     "output_type": "stream",
     "text": [
      "921\n"
     ]
    }
   ],
   "source": [
    "from langchain.text_splitter import RecursiveCharacterTextSplitter\n",
    "\n",
    "def split_docs(documents,chunk_size=1000,chunk_overlap=20):\n",
    "  text_splitter = RecursiveCharacterTextSplitter(chunk_size=chunk_size, chunk_overlap=chunk_overlap)\n",
    "  docs = text_splitter.split_documents(documents)\n",
    "  return docs\n",
    "\n",
    "docs = split_docs(csv_data)\n",
    "print(len(docs))\n"
   ]
  },
  {
   "cell_type": "code",
   "execution_count": 7,
   "metadata": {},
   "outputs": [
    {
     "data": {
      "text/plain": [
       "Document(page_content='\\ufeffInvestor Name: Frank M. Creer\\nFund from Fund Master: Zone Ventures\\nIndustry: Commercial Services,Software\\nIndustry Copy: Software and Information Services\\nVertical: Industrials,TMT\\nInvestor Type: Venture Capital\\nWebsite: www.zonevc.com\\nPreferred Geography (from Fund from Fund Master): United States\\nPreferred Investment Stage: Early Stage,Late Stage,PE Growth/Expansion,Seed\\nPreferred Investment Type: Convertible Debt,SAFE,Debt\\nMax Check size: 2.50\\nMin check size: 1.00\\nHQ Location: Menlo Park, CA\\nURL (from Fund from Fund Master): www.zonevc.com\\nPreferred TAM: Less than a Billion\\nImpact Investor: No\\n% Diversity in Managers/LPs: 25%\\nAge of Fund/Investor Since (Years): 20.0\\nNumber of investments (Portfolio Size): 20\\nReturn Expectations: 10X and above\\nExit Strategy Preference: IPO\\nNetwork and Support Resources: Heavily Supportive\\nDue diligence process: Heavily Involved\\nDecision-making timeline: Months\\nReputation: 4\\nPortfolio Success Track Record (% Exits): 2%\\nManagers/LPs Turnover: High', metadata={'source': 'data/Investors_v2.csv', 'row': 0})"
      ]
     },
     "execution_count": 7,
     "metadata": {},
     "output_type": "execute_result"
    }
   ],
   "source": [
    "docs[0]"
   ]
  },
  {
   "cell_type": "code",
   "execution_count": 10,
   "metadata": {},
   "outputs": [
    {
     "name": "stderr",
     "output_type": "stream",
     "text": [
      "/Volumes/T7/ML/minicoda3/envs/hugfac/lib/python3.10/site-packages/tqdm/auto.py:21: TqdmWarning: IProgress not found. Please update jupyter and ipywidgets. See https://ipywidgets.readthedocs.io/en/stable/user_install.html\n",
      "  from .autonotebook import tqdm as notebook_tqdm\n"
     ]
    }
   ],
   "source": [
    "from langchain.embeddings import SentenceTransformerEmbeddings\n",
    "embeddings = SentenceTransformerEmbeddings(model_name=\"all-MiniLM-L6-v2\")"
   ]
  },
  {
   "cell_type": "code",
   "execution_count": 11,
   "metadata": {},
   "outputs": [],
   "source": [
    "from langchain.vectorstores import Chroma\n",
    "db = Chroma.from_documents(docs, embeddings)"
   ]
  },
  {
   "cell_type": "code",
   "execution_count": 15,
   "metadata": {},
   "outputs": [
    {
     "data": {
      "text/plain": [
       "Document(page_content='\\ufeffInvestor Name: Michael Y. Mashaal\\nFund from Fund Master: HealthCor Partners Management\\nIndustry: Healthcare Devices and Supplies,Healthcare Services,Pharmaceuticals and Biotechnology\\nIndustry Copy: \\nVertical: Digital Health,HealthTech,Life Sciences,Manufacturing\\nInvestor Type: Growth/Expansion\\nWebsite: www.healthcorpartners.com\\nPreferred Geography (from Fund from Fund Master): United States\\nPreferred Investment Stage: Early Stage,Late Stage,PE Growth/Expansion,Seed\\nPreferred Investment Type: Convertible Debt,SAFE,Debt\\nMax Check size: 40.00\\nMin check size: 10.00\\nHQ Location: New York, NY\\nURL (from Fund from Fund Master): www.healthcorpartners.com\\nPreferred TAM: \\nImpact Investor: \\n% Diversity in Managers/LPs: \\nAge of Fund/Investor Since (Years): \\nNumber of investments (Portfolio Size): \\nReturn Expectations: \\nExit Strategy Preference: \\nNetwork and Support Resources: \\nDue diligence process: \\nDecision-making timeline: \\nReputation: \\nPortfolio Success Track Record (% Exits):', metadata={'row': 302, 'source': 'data/Investors_v2.csv'})"
      ]
     },
     "execution_count": 15,
     "metadata": {},
     "output_type": "execute_result"
    }
   ],
   "source": [
    "query = \"Name different fund masters that normally invest in healthcare?\"\n",
    "matching_docs = db.similarity_search(query)\n",
    "\n",
    "matching_docs[1]\n"
   ]
  },
  {
   "cell_type": "code",
   "execution_count": 16,
   "metadata": {},
   "outputs": [],
   "source": [
    "persist_directory = \"chroma_db\"\n",
    "\n",
    "vectordb = Chroma.from_documents(\n",
    "    documents=docs, embedding=embeddings, persist_directory=persist_directory\n",
    ")\n",
    "\n",
    "vectordb.persist()\n"
   ]
  },
  {
   "cell_type": "code",
   "execution_count": 21,
   "metadata": {},
   "outputs": [],
   "source": [
    "import os\n",
    "# Read API key from env file\n",
    "api_key = os.getenv(\"OPENAI_KEY\")\n",
    "\n",
    "\n",
    "from langchain.chat_models import ChatOpenAI\n",
    "from langchain.prompts.chat import (\n",
    "    ChatPromptTemplate,\n",
    "    SystemMessagePromptTemplate,\n",
    "    AIMessagePromptTemplate,\n",
    "    HumanMessagePromptTemplate,\n",
    ")\n",
    "from langchain.schema import AIMessage, HumanMessage, SystemMessage\n",
    "\n",
    "\n",
    "model_name = \"gpt-3.5-turbo\"\n",
    "llm = ChatOpenAI(model_name=model_name, temperature=0)\n"
   ]
  },
  {
   "cell_type": "code",
   "execution_count": 23,
   "metadata": {},
   "outputs": [
    {
     "data": {
      "text/plain": [
       "AIMessage(content='Sure, please provide me with the founder info in Python dictionary format, and I will recommend at most 5 Fund Masters for each founder.', additional_kwargs={}, example=False)"
      ]
     },
     "execution_count": 23,
     "metadata": {},
     "output_type": "execute_result"
    }
   ],
   "source": [
    "messages = [\n",
    "    SystemMessage(\n",
    "        content=\"You are a Venture capatilist consultant who has 7+ years of experience in funding and investment domain.\"\n",
    "    ),\n",
    "    HumanMessage(\n",
    "        content=\"Recommend at most 5 Fund Masters(from the investors data you have) for each founder info that is provided to you in python dictionary format\"\n",
    "    ),\n",
    "]\n",
    "llm(messages)"
   ]
  },
  {
   "cell_type": "code",
   "execution_count": 24,
   "metadata": {},
   "outputs": [],
   "source": [
    "template = (\n",
    "    \"\"\"You are a Venture capatilist consultant who has 7+ years of experience in funding and investment domain. You look into founders information and recommend investors name with respect to the data I have provided you using langchian csvreader.\n",
    "    You receive a founder_info in python dictionary format and return recommded investors\"\"\"\n",
    ")\n",
    "system_message_prompt = SystemMessagePromptTemplate.from_template(template)\n",
    "human_template = \"{text}\"\n",
    "human_message_prompt = HumanMessagePromptTemplate.from_template(human_template)"
   ]
  },
  {
   "cell_type": "code",
   "execution_count": 30,
   "metadata": {},
   "outputs": [],
   "source": [
    "import csv\n",
    "\n",
    "founders_data = []\n",
    "with open('data/founder_v2.csv', 'r') as file:\n",
    "    reader = csv.reader(file)\n",
    "    headers = next(reader)\n",
    "    for row in reader:\n",
    "        founders_data.append(dict(zip(headers, row)))\n",
    "\n",
    "document = founders_data[1]\n"
   ]
  },
  {
   "cell_type": "code",
   "execution_count": 31,
   "metadata": {},
   "outputs": [
    {
     "data": {
      "text/plain": [
       "{'\\ufeffName': 'Minara El-Rahman',\n",
       " 'Company': 'Mora Cosmetics',\n",
       " 'Email': 'minara@moraglam.com',\n",
       " 'Industry': 'CPG',\n",
       " 'Verticals': 'Beauty & Wellness,Marketplace',\n",
       " 'Target Customer': 'B2C,B2B',\n",
       " 'Geography': 'United States of America (USA)',\n",
       " 'Target Market (Locations)': 'Canada,USA',\n",
       " 'Investment Stage': 'SEED',\n",
       " 'Planned Raise Amount': '$500K - $750K',\n",
       " 'Market size': '$5Billion to $10Billion',\n",
       " 'Business Revenue Model': 'Retail',\n",
       " 'Stage of development': 'Growth Phase',\n",
       " 'Revenue/profitability': 'Pre-Revenue',\n",
       " 'Fundraising history': 'Bootstrapped',\n",
       " 'Traction': 'Unpaid customers,Unpaid Pilot',\n",
       " 'Team Key Roles & experience': 'Strong',\n",
       " 'Intellectual property': 'Strong ',\n",
       " 'Competitive landscape': 'No Competition',\n",
       " 'Customer Base (# paying clients)': '2.0',\n",
       " 'Growth potential': 'Medium',\n",
       " 'Management experience': 'Domain Expert,First time founder'}"
      ]
     },
     "execution_count": 31,
     "metadata": {},
     "output_type": "execute_result"
    }
   ],
   "source": [
    "document"
   ]
  },
  {
   "cell_type": "code",
   "execution_count": 34,
   "metadata": {},
   "outputs": [],
   "source": [
    "from langchain.chains import RetrievalQA\n",
    "query = \"\"\"\n",
    "TASK: Recommend investors for a founder by matching features that a investor would consider while investing in a startup? \\n\n",
    "INSTRUCTION: While matching investors with founders, please keep in mind that investors always invent in startups that match\n",
    "thier industry and verticals. eg: A founder who is developing a heathcare product, usually attract investors that invest \n",
    "in healthcare base industry and verticals. Please give importance to features like geography, TAM and other relevant features.\n",
    "Please restrict yourself from recommending investors that don't invest in domain and vertical of a founder. \\n\n",
    "QUESTION: Recommend at most 5 Fund Masters(from the investors data you have) for {0}. While recommending please keep in mind that that investor should be investing in that vertical and Industry\"\"\".format(document)\n",
    "retrieval_chain = RetrievalQA.from_chain_type(llm, chain_type=\"stuff\", retriever=db.as_retriever())\n",
    "out=retrieval_chain.run(query)\n"
   ]
  },
  {
   "cell_type": "code",
   "execution_count": 35,
   "metadata": {},
   "outputs": [
    {
     "data": {
      "text/plain": [
       "['Based on the given information, here are five Fund Masters that may be a good fit for Mora Cosmetics:',\n",
       " '',\n",
       " '1. Investor Name: Austin Walne',\n",
       " '   Fund from Fund Master: ARTIS Ventures',\n",
       " '   Industry: Healthcare, Software',\n",
       " '   Vertical: Beauty & Wellness, Marketplace',\n",
       " '   Preferred Geography: United States',\n",
       " '   Preferred Investment Stage: Early Stage, Seed',\n",
       " '   Preferred Investment Type: Convertible Debt, SAFE, Debt',\n",
       " '   Max Check size: $15.00',\n",
       " '   Min check size: $1.00',\n",
       " '   HQ Location: San Francisco, CA',\n",
       " '   Website: www.av.co',\n",
       " '',\n",
       " '2. Investor Name: Simin Zhou',\n",
       " '   Fund from Fund Master: UL Ventures',\n",
       " '   Industry: Other Information Technology, Software',\n",
       " '   Vertical: Beauty & Wellness, Marketplace',\n",
       " '   Preferred Investment Stage: Early Stage, Seed',\n",
       " '   Preferred Investment Type: Convertible Debt, SAFE, Debt',\n",
       " '   Max Check size: $5.00',\n",
       " '   Min check size: $0.25',\n",
       " '   HQ Location: Northbrook, IL',\n",
       " '',\n",
       " '3. Investor Name: Bob Rees',\n",
       " '   Fund from Fund Master: Startup Capital Ventures',\n",
       " '   Industry: Software',\n",
       " '   Vertical: Beauty & Wellness, Marketplace',\n",
       " '   Preferred Geography: California, Hawaii',\n",
       " '   Preferred Investment Stage: Early Stage, Late Stage, Seed',\n",
       " '   Preferred Investment Type: Convertible Debt, SAFE, Debt',\n",
       " '   Max Check size: $1.00',\n",
       " '   Min check size: $0.25',\n",
       " '   HQ Location: Menlo Park, CA',\n",
       " '   Website: startupcv.com',\n",
       " '',\n",
       " '4. Investor Name: Dominic Wilhelm',\n",
       " '   Fund from Fund Master: Headline (San Francisco)',\n",
       " '   Industry: Apparel and Accessories, Business/Productivity Software, Financial Services, Financial Software, Healthcare, Internet Retail, Internet Service Providers, Media',\n",
       " '   Vertical: Beauty & Wellness, Marketplace',\n",
       " '   Preferred Geography: Asia, Brazil, Europe, United States',\n",
       " '   Preferred Investment Stage: Early Stage, Late Stage, Seed',\n",
       " '   Preferred Investment Type: Convertible Debt, SAFE, Debt',\n",
       " '   Max Check size: $50.00',\n",
       " '   Min check size: $1.00',\n",
       " '   HQ Location: San Francisco, CA',\n",
       " '   Website: www.headline.com',\n",
       " '',\n",
       " '5. (Additional option)',\n",
       " '   Investor Name: XYZ Ventures',\n",
       " '   Fund from Fund Master: XYZ Ventures',\n",
       " '   Industry: CPG',\n",
       " '   Vertical: Beauty & Wellness, Marketplace',\n",
       " '   Preferred Geography: United States',\n",
       " '   Preferred Investment Stage: Seed',\n",
       " '   Preferred Investment Type: Convertible Debt, SAFE, Debt',\n",
       " '   Max Check size: $1.00',\n",
       " '   Min check size: $0.25',\n",
       " '   HQ Location: [Location]',\n",
       " '   Website: [Website]',\n",
       " '',\n",
       " 'Please note that the additional option is a hypothetical investor, as the provided data does not include a Fund Master that specifically matches the CPG industry.']"
      ]
     },
     "execution_count": 35,
     "metadata": {},
     "output_type": "execute_result"
    }
   ],
   "source": [
    "out.split(\"\\n\")"
   ]
  },
  {
   "cell_type": "code",
   "execution_count": null,
   "metadata": {},
   "outputs": [],
   "source": [
    "from langchain.chains.question_answering import load_qa_chain\n",
    "chain = load_qa_chain(llm, chain_type=\"stuff\",verbose=True)\n",
    "\n",
    "query = \"\"\"\n",
    "ROLE: You are a Venture capatilist consultant who has 7+ years of experience in funding and investment domain. \\n\n",
    "TASK: Recommend investors for a founder by matching features that a investor would consider while investing in a startup? \\n\n",
    "INSTRUCTION: While matching investors with founders, please keep in mind that investors always invent in startups that match\n",
    "thier industry and verticals. eg: A founder who is developing a heathcare product, usually attract investors that invest \n",
    "in healthcare base industry and verticals. Please give importance to features like geography, TAM and other relevant features.\n",
    "Please restrict yourself from recommending investors that don't invest in domain and vertical of a founder. \\n\n",
    "QUESTION: Recommend at most 5 Fund Masters(from the investors data you have) for Sofia Yen who is the founder of PandiaHealth. \n",
    "        example for sophia yen, Shervin Pishevar(Fund maanger) would be a good option as he invests in Industires that work on healthcare.\"\"\"\n",
    "matching_docs = db.similarity_search(query)\n",
    "answer =  chain.run(input_documents=matching_docs, question=query)\n",
    "answer\n"
   ]
  }
 ],
 "metadata": {
  "kernelspec": {
   "display_name": "hugfac",
   "language": "python",
   "name": "python3"
  },
  "language_info": {
   "codemirror_mode": {
    "name": "ipython",
    "version": 3
   },
   "file_extension": ".py",
   "mimetype": "text/x-python",
   "name": "python",
   "nbconvert_exporter": "python",
   "pygments_lexer": "ipython3",
   "version": "3.10.8"
  },
  "orig_nbformat": 4
 },
 "nbformat": 4,
 "nbformat_minor": 2
}

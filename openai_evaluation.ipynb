{
 "cells": [
  {
   "cell_type": "code",
   "execution_count": 1,
   "metadata": {},
   "outputs": [],
   "source": [
    "import openai\n",
    "import os\n",
    "\n",
    "# Set your API key\n",
    "api_key = os.getenv(\"OPENAI_KEY\")\n",
    "\n",
    "# Initialize the OpenAI API client\n",
    "openai.api_key = api_key\n"
   ]
  },
  {
   "cell_type": "code",
   "execution_count": 26,
   "metadata": {},
   "outputs": [],
   "source": [
    "def generate_profile_description(user_description):\n",
    "    response = openai.Completion.create(\n",
    "        engine=\"davinci-002\",\n",
    "        prompt=f\"Generate a user profile description: {user_description}\",\n",
    "        max_tokens=50,  # Adjust the token limit as needed\n",
    "        n=1,  # Number of responses\n",
    "        stop=None,  # Stop tokens (optional)\n",
    "    )\n",
    "    return response.choices[0].text.strip()\n",
    "\n",
    "def generate_matching_criteria(user_profile, investor_profile):\n",
    "    # Generate matching criteria using LLM\n",
    "    criteria = []\n",
    "    criteria.append(generate_profile_description(user_profile[\"Industry\"]))\n",
    "    criteria.append(generate_profile_description(\", \".join(user_profile[\"Verticals\"])))\n",
    "    criteria.append(generate_profile_description(user_profile[\"Geography\"]))\n",
    "    criteria.append(generate_profile_description(user_profile[\"Investment Stage\"]))\n",
    "    criteria.append(generate_profile_description(str(user_profile[\"Planned Raise Amount\"])))\n",
    "    criteria.append(generate_profile_description(user_profile[\"Stage of development\"]))\n",
    "    criteria.append(generate_profile_description(user_profile[\"Revenue/profitability\"]))\n",
    "    criteria.append(generate_profile_description(user_profile[\"Fundraising history\"]))\n",
    "    criteria.append(generate_profile_description(user_profile[\"Intellectual property\"]))\n",
    "    criteria.append(generate_profile_description(user_profile[\"Competitive landscape\"]))\n",
    "    criteria.append(generate_profile_description(user_profile[\"Customer Base (# paying clients)\"]))\n",
    "    criteria.append(generate_profile_description(user_profile[\"Growth potential\"]))\n",
    "    \n",
    "    # Combine generated criteria into a single text\n",
    "    startup_description = \"\\n\".join(criteria)\n",
    "\n",
    "    criteria = []\n",
    "    criteria.append(generate_profile_description(investor_profile[\"Fund from Fund Master\"]))\n",
    "    criteria.append(generate_profile_description(investor_profile[\"Target Customer\"]))\n",
    "    criteria.append(generate_profile_description(investor_profile[\"Industry Final\"]))\n",
    "    criteria.append(generate_profile_description(investor_profile[\"Vertical Final\"]))\n",
    "    criteria.append(generate_profile_description(investor_profile[\"Investor Type\"]))\n",
    "    criteria.append(generate_profile_description(investor_profile[\"Preferred Geography (from Fund from Fund Master)\"]))\n",
    "    criteria.append(generate_profile_description(investor_profile[\"Preferred Investment Stage\"]))\n",
    "    criteria.append(generate_profile_description(investor_profile[\"Preferred Investment Type\"]))\n",
    "    criteria.append(generate_profile_description(investor_profile[\"Min check size\"]))\n",
    "    criteria.append(generate_profile_description(investor_profile[\"Max Check size\"]))\n",
    "    criteria.append(generate_profile_description(investor_profile[\"Impact Investor\"]))\n",
    "    criteria.append(generate_profile_description(investor_profile[\"Number of investments (Portfolio Size)\"]))\n",
    "    criteria.append(generate_profile_description(investor_profile[\"Return Expectations\"]))\n",
    "    # criteria.append(generate_profile_description(row[\"Exit Strategy Preference\"]))\n",
    "    criteria.append(generate_profile_description(investor_profile[\"Network and Support Resources \"]))\n",
    "    # criteria.append(generate_profile_description(row[\"Due diligence process\"]))\n",
    "    criteria.append(generate_profile_description(investor_profile[\"Decision-making timeline\"]))\n",
    "    criteria.append(generate_profile_description(investor_profile[\"Reputation\"]))\n",
    "    criteria.append(generate_profile_description(investor_profile[\"Portfolio Success Track Record (% Exits) \"]))\n",
    "    criteria.append(generate_profile_description(investor_profile[\"Managers/LPs Turnover\"]))\n",
    "    criteria.append(generate_profile_description(investor_profile[\"% Portfolio Diversity\"]))\n",
    "    investor_description = \"\\n\".join(criteria)\n",
    "    \n",
    "    response = openai.Completion.create(\n",
    "        engine=\"gpt-3.5-turbo\",\n",
    "        prompt=f\"\"\"\n",
    "                    ROLE: Assume you are Broker that has expertise in VC, investment and managing funds\n",
    "                    and you are working on investors meet new founders that will profit them \\n\n",
    "                    TASK: Generate matching criteria among a founder and investor, importing matching criteria that should somewhat overlap are - \n",
    "                    Industry, Verticals, Geography,Planned Raise Amount and other key factors that a investor will consider. \n",
    "                    For example: A investor looking to invest in healthcare would look for a founder builing in the same and even if the \n",
    "                    Industry is not matching, verticals should match to a certain extent. \n",
    "                    Similary for Planned raised amount should be in between of min check size and max check size of investor(min check of 0.25 means 0.25 million dollars i.e. 250000 dollars, and this applies to max check size too). \n",
    "                    Please take into account many other key aspects that you as an expert broker will take \\n\n",
    "                    On the basis of above context generate matching criteria:\\n\\nStartup Profile:\\n{startup_description}\\n\\nInvestor Profile:\\n{investor_description}\"\"\",\n",
    "        max_tokens=120,  # Adjust the token limit as needed\n",
    "        n=1,  # Number of responses\n",
    "        stop=None,  # Stop tokens (optional)\n",
    "    )\n",
    "    matching_criteria = response.choices[0].text.strip()\n",
    "    return matching_criteria\n",
    "\n",
    "def generate_matching_score(matching_criteria):\n",
    "    response = openai.Completion.create(\n",
    "        engine=\"gpt-4\",\n",
    "        prompt=f\"\"\"ROLE: Assume you are Broker that has expertise in VC, investment and managing funds \n",
    "                    and you are working on investors meet new founders that will profit them \\n\n",
    "                    TASK: Generate matching criteria among a founder and investor, importing matching criteria that should somewhat overlap are - \n",
    "                    Industry, Verticals, Geography,Planned Raise Amount and other key factors that a investor will consider. \n",
    "                    For example: A investor looking to invest in healthcare would look for a founder builing in the same and even if the \n",
    "                    Industry is not matching, verticals should match to a certain extent. \n",
    "                    Similary for Planned raised amount should be in between of min check size and max check size of investor(min check of 0.25 means 0.25 million dollars i.e. 250000 dollars, and this applies to max check size too).\n",
    "                    Please take into account many other key aspects that you as an expert broker will take \\n\n",
    "                    On the basis of above context calculate matching score: {matching_criteria}\"\"\",\n",
    "        max_tokens=10,  # Adjust the token limit as needed\n",
    "        n=1,  # Number of responses\n",
    "        stop=None,  # Stop tokens (optional)\n",
    "    )\n",
    "    score = float(response.choices[0].text.strip())  # Assuming LLM returns a numerical score\n",
    "    return score\n"
   ]
  },
  {
   "cell_type": "code",
   "execution_count": 15,
   "metadata": {},
   "outputs": [],
   "source": [
    "import csv\n",
    "\n",
    "founders_data = []\n",
    "with open('data/founder_v2.csv', 'r') as file:\n",
    "    reader = csv.reader(file)\n",
    "    headers = next(reader)\n",
    "    for row in reader:\n",
    "        founders_data.append(dict(zip(headers, row)))\n",
    "\n",
    "founder_document = founders_data[10]"
   ]
  },
  {
   "cell_type": "code",
   "execution_count": 22,
   "metadata": {},
   "outputs": [],
   "source": [
    "import csv\n",
    "\n",
    "investors_data = []\n",
    "with open('data/inv_clean_v1.csv', 'r') as file:\n",
    "    reader = csv.reader(file)\n",
    "    headers = next(reader)\n",
    "    for row in reader:\n",
    "        investors_data.append(dict(zip(headers, row)))\n",
    "\n",
    "inv_document = investors_data[0]"
   ]
  },
  {
   "cell_type": "code",
   "execution_count": 23,
   "metadata": {},
   "outputs": [
    {
     "data": {
      "text/plain": [
       "{'\\ufeffInvestor Name': 'Maarten Goossens',\n",
       " 'Fund from Fund Master': 'Anterra Capital',\n",
       " 'Target Customer': 'B2B',\n",
       " 'Industry Final': 'Agriculture & Forestry,Energy and Climate,Food and Beverage,Healthcare',\n",
       " 'Vertical Final': 'AgTech,Climate Tech,Digital Health,HealthTech,Beauty & Wellness',\n",
       " 'Investor Type': 'Venture Capital',\n",
       " 'Website': 'www.anterracapital.com',\n",
       " 'Preferred Geography (from Fund from Fund Master)': 'Asia, Canada, Europe, United States',\n",
       " 'Preferred Investment Stage': 'Pre-SEED,Series A,SEED',\n",
       " 'Preferred Investment Type': 'Convertible Debt,SAFE,Debt',\n",
       " 'Min check size': '$0.10',\n",
       " 'Max Check size': '$2.00',\n",
       " 'HQ Location': 'Amsterdam, Netherlands',\n",
       " 'URL (from Fund from Fund Master)': 'www.anterracapital.com',\n",
       " 'Preferred TAM': '$5B to $10B',\n",
       " 'Impact Investor': 'No',\n",
       " 'Number of investments (Portfolio Size)': '90',\n",
       " 'Return Expectations': '2X - 5X',\n",
       " 'Exit Strategy Preference': 'Acquisition,IPO',\n",
       " 'Network and Support Resources ': 'Heavily Supportive',\n",
       " 'Due diligence process': 'Heavily Involved ',\n",
       " 'Decision-making timeline': 'Months',\n",
       " 'Reputation': '',\n",
       " 'Portfolio Success Track Record (% Exits) ': '',\n",
       " 'Managers/LPs Turnover': '',\n",
       " '% Portfolio Diversity': '',\n",
       " 'Do follow-on rounds?': ''}"
      ]
     },
     "execution_count": 23,
     "metadata": {},
     "output_type": "execute_result"
    }
   ],
   "source": [
    "inv_document"
   ]
  },
  {
   "cell_type": "code",
   "execution_count": 25,
   "metadata": {},
   "outputs": [
    {
     "ename": "KeyError",
     "evalue": "'Min check size(Minimum investment they are looking to make in Million dollars)'",
     "output_type": "error",
     "traceback": [
      "\u001b[0;31m---------------------------------------------------------------------------\u001b[0m",
      "\u001b[0;31mKeyError\u001b[0m                                  Traceback (most recent call last)",
      "\u001b[1;32m/Volumes/T7/ML Projects/She Raises Capital/openai_evaluation.ipynb Cell 6\u001b[0m in \u001b[0;36m1\n\u001b[0;32m----> <a href='vscode-notebook-cell:/Volumes/T7/ML%20Projects/She%20Raises%20Capital/openai_evaluation.ipynb#W2sZmlsZQ%3D%3D?line=0'>1</a>\u001b[0m matching_criteria \u001b[39m=\u001b[39m generate_matching_criteria(founder_document, inv_document)\n",
      "\u001b[1;32m/Volumes/T7/ML Projects/She Raises Capital/openai_evaluation.ipynb Cell 6\u001b[0m in \u001b[0;36m3\n\u001b[1;32m     <a href='vscode-notebook-cell:/Volumes/T7/ML%20Projects/She%20Raises%20Capital/openai_evaluation.ipynb#W2sZmlsZQ%3D%3D?line=36'>37</a>\u001b[0m criteria\u001b[39m.\u001b[39mappend(generate_profile_description(investor_profile[\u001b[39m\"\u001b[39m\u001b[39mPreferred Investment Stage\u001b[39m\u001b[39m\"\u001b[39m]))\n\u001b[1;32m     <a href='vscode-notebook-cell:/Volumes/T7/ML%20Projects/She%20Raises%20Capital/openai_evaluation.ipynb#W2sZmlsZQ%3D%3D?line=37'>38</a>\u001b[0m criteria\u001b[39m.\u001b[39mappend(generate_profile_description(investor_profile[\u001b[39m\"\u001b[39m\u001b[39mPreferred Investment Type\u001b[39m\u001b[39m\"\u001b[39m]))\n\u001b[0;32m---> <a href='vscode-notebook-cell:/Volumes/T7/ML%20Projects/She%20Raises%20Capital/openai_evaluation.ipynb#W2sZmlsZQ%3D%3D?line=38'>39</a>\u001b[0m criteria\u001b[39m.\u001b[39mappend(generate_profile_description(investor_profile[\u001b[39m\"\u001b[39;49m\u001b[39mMin check size(Minimum investment they are looking to make in Million dollars)\u001b[39;49m\u001b[39m\"\u001b[39;49m]))\n\u001b[1;32m     <a href='vscode-notebook-cell:/Volumes/T7/ML%20Projects/She%20Raises%20Capital/openai_evaluation.ipynb#W2sZmlsZQ%3D%3D?line=39'>40</a>\u001b[0m criteria\u001b[39m.\u001b[39mappend(generate_profile_description(investor_profile[\u001b[39m\"\u001b[39m\u001b[39mMax Check size(Maximum investment they are looking to make in Million dollars)\u001b[39m\u001b[39m\"\u001b[39m]))\n\u001b[1;32m     <a href='vscode-notebook-cell:/Volumes/T7/ML%20Projects/She%20Raises%20Capital/openai_evaluation.ipynb#W2sZmlsZQ%3D%3D?line=40'>41</a>\u001b[0m criteria\u001b[39m.\u001b[39mappend(generate_profile_description(investor_profile[\u001b[39m\"\u001b[39m\u001b[39mImpact Investor\u001b[39m\u001b[39m\"\u001b[39m]))\n",
      "\u001b[0;31mKeyError\u001b[0m: 'Min check size(Minimum investment they are looking to make in Million dollars)'"
     ]
    }
   ],
   "source": [
    "matching_criteria = generate_matching_criteria(founder_document, inv_document)"
   ]
  },
  {
   "cell_type": "code",
   "execution_count": null,
   "metadata": {},
   "outputs": [],
   "source": []
  }
 ],
 "metadata": {
  "kernelspec": {
   "display_name": "base",
   "language": "python",
   "name": "python3"
  },
  "language_info": {
   "codemirror_mode": {
    "name": "ipython",
    "version": 3
   },
   "file_extension": ".py",
   "mimetype": "text/x-python",
   "name": "python",
   "nbconvert_exporter": "python",
   "pygments_lexer": "ipython3",
   "version": "3.10.8"
  },
  "orig_nbformat": 4
 },
 "nbformat": 4,
 "nbformat_minor": 2
}

{
 "cells": [
  {
   "cell_type": "code",
   "execution_count": 4,
   "metadata": {},
   "outputs": [
    {
     "name": "stdout",
     "output_type": "stream",
     "text": [
      "Collecting pydantic\n",
      "  Using cached pydantic-2.4.2-py3-none-any.whl (395 kB)\n",
      "Collecting annotated-types>=0.4.0\n",
      "  Using cached annotated_types-0.6.0-py3-none-any.whl (12 kB)\n",
      "Collecting pydantic-core==2.10.1\n",
      "  Using cached pydantic_core-2.10.1-cp311-cp311-macosx_11_0_arm64.whl (1.7 MB)\n",
      "Requirement already satisfied: typing-extensions>=4.6.1 in /Library/Frameworks/Python.framework/Versions/3.11/lib/python3.11/site-packages (from pydantic) (4.7.1)\n",
      "Installing collected packages: pydantic-core, annotated-types, pydantic\n",
      "Successfully installed annotated-types-0.6.0 pydantic-2.4.2 pydantic-core-2.10.1\n",
      "\n",
      "\u001b[1m[\u001b[0m\u001b[34;49mnotice\u001b[0m\u001b[1;39;49m]\u001b[0m\u001b[39;49m A new release of pip available: \u001b[0m\u001b[31;49m22.3\u001b[0m\u001b[39;49m -> \u001b[0m\u001b[32;49m23.3.1\u001b[0m\n",
      "\u001b[1m[\u001b[0m\u001b[34;49mnotice\u001b[0m\u001b[1;39;49m]\u001b[0m\u001b[39;49m To update, run: \u001b[0m\u001b[32;49mpip3.11 install --upgrade pip\u001b[0m\n",
      "Note: you may need to restart the kernel to use updated packages.\n"
     ]
    }
   ],
   "source": [
    "%pip install pydantic"
   ]
  },
  {
   "cell_type": "code",
   "execution_count": 5,
   "metadata": {},
   "outputs": [],
   "source": [
    "import openai\n",
    "import os\n",
    "from pydantic import BaseModel\n",
    "import json\n",
    "\n",
    "class ScoreResponse(BaseModel):\n",
    "    score: int\n",
    "    explanation: str\n",
    "\n",
    "# Set your API key\n",
    "api_key = os.getenv(\"OPENAI_KEY\")\n",
    "\n",
    "# Initialize the OpenAI API client\n",
    "openai.api_key = api_key"
   ]
  },
  {
   "cell_type": "code",
   "execution_count": 6,
   "metadata": {},
   "outputs": [
    {
     "name": "stderr",
     "output_type": "stream",
     "text": [
      "/var/folders/31/5sqnxmp50654hx6b98wty7xc0000gn/T/ipykernel_88492/4279378787.py:1: PydanticDeprecatedSince20: The `schema` method is deprecated; use `model_json_schema` instead. Deprecated in Pydantic V2.0 to be removed in V3.0. See Pydantic V2 Migration Guide at https://errors.pydantic.dev/2.4/migration/\n",
      "  ScoreResponse.schema()\n"
     ]
    },
    {
     "data": {
      "text/plain": [
       "{'properties': {'score': {'title': 'Score', 'type': 'integer'},\n",
       "  'explanation': {'title': 'Explanation', 'type': 'string'}},\n",
       " 'required': ['score', 'explanation'],\n",
       " 'title': 'ScoreResponse',\n",
       " 'type': 'object'}"
      ]
     },
     "execution_count": 6,
     "metadata": {},
     "output_type": "execute_result"
    }
   ],
   "source": [
    "ScoreResponse.schema()"
   ]
  },
  {
   "cell_type": "code",
   "execution_count": 23,
   "metadata": {},
   "outputs": [],
   "source": [
    "def generate_profile_description(user_description):\n",
    "    response = openai.Completion.create(\n",
    "        engine=\"davinci-002\",\n",
    "        prompt=f\"Generate a user profile description: {user_description}\",\n",
    "        max_tokens=50,  # Adjust the token limit as needed\n",
    "        n=1,  # Number of responses\n",
    "        stop=None,  # Stop tokens (optional)\n",
    "    )\n",
    "    return response.choices[0].text.strip()\n",
    "\n",
    "def generate_matching_criteria(user_profile, investor_profile):\n",
    "    # Generate matching criteria using LLM\n",
    "    criteria = []\n",
    "    criteria.append(\"'''- The founder's name is: \" + user_profile[\"Name\"]+\".\")\n",
    "    criteria.append(\"- They have started a company whose name is \"+user_profile[\"Company\"]+\".\")\n",
    "    criteria.append(\"- The industry they are building the product for is \" + user_profile[\"Industry\"] + \n",
    "                    \" and the specific verticals they are targetting are \" + user_profile[\"Verticals\"] + \".\")\n",
    "    criteria.append(\"- Location where they are targetting their product for is, i.e their target customer location is : \"+user_profile[\"Target Market (Locations)\"] + \n",
    "                    \" and they are looking out to raise money for \" + user_profile[\"Investment Stage\"] +\" stage.\" )\n",
    "    criteria.append(\"- The amount they are targetting to raise for is around \" + str(user_profile[\"Planned Raise Amount\"]) + \n",
    "                    \" and their main traction points are: \" + user_profile[\"Traction\"] + \".\")\n",
    "    criteria.append(\"- Their Revenue/profitability at this moment is \" + user_profile[\"Revenue/profitability\"] + \" and their fundraising history is \"+ user_profile[\"Fundraising history\"] + \".\")\n",
    "    criteria.append(\"- We should classify their products ip(Intellectual property) as \" + user_profile[\"Intellectual property\"] + \" and the competitive landscape for them looks like \" + user_profile[\"Competitive landscape\"] + \".\")\n",
    "    criteria.append(f\"- Number of customers that are paying for their {user_profile['Target Customer']} product is \" + \n",
    "                    user_profile[\"Customer Base (# paying clients)\"] + \n",
    "                    \", B2B products have lesser customers than B2C products for obvious reasons \" + \n",
    "                    \"and their growth potential is \" +\n",
    "                    user_profile[\"Growth potential\"] + \".'''\")\n",
    "    \n",
    "    # Combine generated criteria into a single text\n",
    "    startup_description = \"\\n\".join(criteria)\n",
    "\n",
    "    criteria = f'''\"\"\"- We have {investor_profile[\"Fund from Fund Master\"]} as an investor.\\n'''\\\n",
    "    f'''- They invest in businesses that build product in the industry of {investor_profile[\"Industry Final\"]} '''\\\n",
    "    f'''and specific verticals like {investor_profile[\"Vertical Final\"]}.\\n- This investor can be classified as a {investor_profile[\"Investor Type\"]}''' \\\n",
    "    f''' and their preferred geography for investment is {investor_profile[\"Preferred Geography (from Fund from Fund Master)\"]}.\\n''' \\\n",
    "    f'''- They prefer to invest in {investor_profile[\"Preferred Investment Stage\"]} and provide their funds as {investor_profile[\"Preferred Investment Type\"]}.\\n''' \\\n",
    "    f'''- They usually invest in {investor_profile[\"Target Customer\"]} business.\\n- The minimum amount they are planning to invest is {investor_profile[\"Min check size\"]} Million and '''\\\n",
    "    f'''the max investment they are planning to make is {investor_profile[\"Max Check size\"]} Million. Impact Investor? {investor_profile[\"Impact Investor\"]}.\\n'''\\\n",
    "    f'''- Their return expectations is {investor_profile[\"Return Expectations\"]} and their network and support resources are {investor_profile[\"Network and Support Resources \"]}.\\n'''\\\n",
    "    f'''- Their decision making timeline is {investor_profile[\"Decision-making timeline\"]}, this basically tell how much time do they take to come to conclusion whether they want to invest or not.\\n'''\\\n",
    "    f'''- Out of 5 we can rate their reputation as  {investor_profile[\"Reputation\"]}.\\n\"\"\"'''\n",
    "\n",
    "    investor_description = criteria\n",
    "    # key_aspects = f\"\"\"- Industry and vertical Criteria: Industry and vertical overlap is important, that doesn't mean each industry and vertical a investor is planning to invest in \"\"\"\\\n",
    "    #               f\"\"\"should be present in the founder portfolio, but something should overlap, if a founder is creating product for healthcare then healtcare or something closer to it \"\"\"\\\n",
    "    #               f\"\"\"should be there in the vertical or industry investor is planning to invest in. Maybe industry doesn't have it then something should be matching in verticals\\n\"\"\"\\\n",
    "    #               f\"\"\"- Similary for Planned raised amount should be in between of min check size and max check size of investor(min check of 0.25 means 0.25 million dollars i.e. 250000 dollars, and this applies to max check size too). \"\"\"\\\n",
    "    #               f\"\"\"- Matching will also change based on for example round progress, if the investor min check sizze is $200k and a founder has only 150k left to raise in her round, that investor will not a match any more\\n\"\"\"\\\n",
    "    #               f\"\"\"- Investment stage: Founder looking for seed fund should be getting a investor that is looking to invest in that stage, data will have other key aspects like early stage or late stage so context based knowdlege should be used for matching\\n\"\"\"\\\n",
    "    #               f\"\"\"- Traction: Traction of founder i.e. what specialiality is it bring onboard and based on that how attractive they might seem to a investor should also be considered\\n\"\"\"\\\n",
    "    #               f\"\"\"- Revenue: If the founder is already in revenue stage or early revenue stage and if that is recurring too, that would seem promising to an investor.\\n\"\"\"\\\n",
    "    #               f\"\"\"- IP and Competitive landscape: This is another key aspect, how strong or weak the IP of the founder is and how competitive is there market, helps in projecting how much market \"\"\"\\\n",
    "    #               f\"\"\"will the be able to capture and how easily will the be able to generate return for founder, having a competitive market but strong IP can also make a founder lucrative\\n\"\"\"\\\n",
    "    #               f\"\"\"- Target market location is important, a founder building product for a speicific geography then the investor should also be willing to invest in that location\\n\"\"\"\\\n",
    "    #               f\"\"\"- For the rest, providing weightage is challenging. For many of the fields, they become relevant as a relative score given the context of comparing companies. \"\"\"\\\n",
    "    #               f\"\"\"For example, a medtech company with a FDA approval will be considered a better company to invest in vs another one with a potentially great product but no approval yet. \"\"\"\\\n",
    "    #               f\"\"\"So independently, both companies could get an equal matching score. We would love to see them not get the same score somehow.\"\"\"\n",
    "    # user_context = f\"\"\"TASK: Generate matching criteria among a founder and investor\\n\"\"\" \\\n",
    "    #                 f\"\"\"KEY FACTORS TO CONSIDER:\\n{key_aspects}\"\"\"\\\n",
    "    #                 f\"\"\"Please take into account many other key aspects that you as an expert broker will take \\n\"\"\"\\\n",
    "    #                 f\"\"\"On the basis of above context generate matching criteria:\\n\\nStartup Profile:\\n{startup_description}\\n\\nInvestor Profile:\\n{investor_description}\"\"\"\n",
    "    # response = openai.ChatCompletion.create(\n",
    "    #     model=\"gpt-3.5-turbo\",\n",
    "    #     messages = [\n",
    "    #         {\"role\": \"system\", \"content\" : \"You are Broker that has expertise in VC, investment and managing funds and you are working on investors meet new founders that will profit them\"},\n",
    "    #         {\"role\": \"user\", \"content\" : user_context}\n",
    "    #     ],\n",
    "    # )\n",
    "    # matching_criteria = response[\"choices\"][0]['message']['content']\n",
    "    return startup_description, investor_description\n",
    "\n",
    "\n",
    "def generate_matching_score(startup_description, investor_description):\n",
    "    key_aspects = f\"\"\"- Industry and vertical: There should be matching occuring between founder's industry or verticals and investor's indsutry or vertical, if it's not then these they shouldn't match, some investors write very generic industry and vertical, so try and be as specific as possible when matching, specifity is very important \"\"\"\\\n",
    "                  f\"\"\"If a founder is creating product for healthcare then healtcare should be present in vertical or industry that the investor is interested in.\\n\"\"\"\\\n",
    "                  f\"\"\"- Similary for Planned raised amount should be in between of min check size and max check size of investor(min check of 0.25 means 0.25 million dollars i.e. 250000 dollars, and this applies to max check size too). \"\"\"\\\n",
    "                  f\"\"\"- Matching will also change based on for example round progress, if the investor min check sizze is $200k and a founder has only 150k left to raise in her round, that investor will not a match any more\\n\"\"\"\\\n",
    "                  f\"\"\"- Investment stage: Founder looking for seed fund should be getting a investor that is looking to invest in that stage, data will have other key aspects like early stage or late stage so context based knowdlege should be used for matching\\n\"\"\"\\\n",
    "                  f\"\"\"- Traction: Traction of founder i.e. what specialiality is it bring onboard and based on that how attractive they might seem to a investor should also be considered\\n\"\"\"\\\n",
    "                  f\"\"\"- Revenue: If the founder is already in revenue stage or early revenue stage and if that is recurring too, that would seem promising to an investor.\\n\"\"\"\\\n",
    "                  f\"\"\"- IP and Competitive landscape: This is another key aspect, how strong or weak the IP of the founder is and how competitive is there market, helps in projecting how much market \"\"\"\\\n",
    "                  f\"\"\"will the be able to capture and how easily will the be able to generate return for founder, having a competitive market but strong IP can also make a founder lucrative\\n\"\"\"\\\n",
    "                  f\"\"\"- Target market location is important, a founder building product for a speicific geography then the investor should also be willing to invest in that location\\n\"\"\"\\\n",
    "                  f\"\"\"- For the rest, providing weightage is challenging. For many of the fields, they become relevant as a relative score given the context of comparing companies. \"\"\"\\\n",
    "                  f\"\"\"For example, a medtech company with a FDA approval will be considered a better company to invest in vs another one with a potentially great product but no approval yet. \"\"\"\\\n",
    "                  f\"\"\"So independently, both companies could get an equal matching score. We would love to see them not get the same score somehow.\"\"\"\n",
    "    \n",
    "    matching_criteria_weightage = f\"\"\"1. Industry and vertical overlap: Most important, if no indsutry or vertical is overlapping between founder and investor score must be less than 50 don't look for small overlap\\n\"\"\"\\\n",
    "                                  f\"\"\"2. Planned raised amount: Most important, if the planned raise amount is not within investors range the score must be less than 50 and don't consider other key factors at all\\n\"\"\"\\\n",
    "                                  f\"\"\"3. Investment stage: Weightage is high, again some matching should be there otherwise it's a time waste for investor\\n\"\"\"\\\n",
    "    \n",
    "    response = openai.ChatCompletion.create(\n",
    "        model=\"gpt-4\",\n",
    "        messages = [\n",
    "            {\"role\": \"system\", \"content\" : \"You are Broker that has expertise in VC, investment and managing funds and you are working on investors meet new founders that will profit them\"},\n",
    "            {\"role\": \"user\", \"content\" : f\"\"\"Generate matching score among a founder and investor, an investor gets 1000s of founder's profile so the matching score should be tight and useful.\\n\"\"\"\\\n",
    "                                         f\"\"\"Please take into account many other key aspects that you as an expert broker will take, some key important factors:\\n\"\"\"\n",
    "                                         f\"\"\"{key_aspects}\\n CHEKS TO KEEP IN MIND:\\n {matching_criteria_weightage}\\nOn the basis of above context calculate matching score:\\n\\n\\n\\nStartup Profile:\\n{startup_description}\\n\\nInvestor Profile:\\n{investor_description}\\n\\nOutput: give a score and explanation of around 50 words\\n\"\"\"}\n",
    "        ],\n",
    "        functions=[\n",
    "        {\n",
    "          \"name\": \"get_answer_for_user_query\",\n",
    "          \"description\": \"Get matching score and reason behind it\",\n",
    "          \"parameters\": ScoreResponse.schema()\n",
    "        }\n",
    "    ],\n",
    "    function_call={\"name\": \"get_answer_for_user_query\"}\n",
    "    )\n",
    "    output = json.loads(response.choices[0][\"message\"][\"function_call\"][\"arguments\"])\n",
    "    # output = response[\"choices\"][0]['message']['content']  # Assuming LLM returns a numerical score\n",
    "    return output"
   ]
  },
  {
   "cell_type": "code",
   "execution_count": 33,
   "metadata": {},
   "outputs": [],
   "source": [
    "import csv\n",
    "\n",
    "founders_data = []\n",
    "with open('data/founder_v2.csv', 'r') as file:\n",
    "    reader = csv.reader(file)\n",
    "    headers = next(reader)\n",
    "    for row in reader:\n",
    "        founders_data.append(dict(zip(headers, row)))\n",
    "\n",
    "founder_document = founders_data[2]"
   ]
  },
  {
   "cell_type": "code",
   "execution_count": 42,
   "metadata": {},
   "outputs": [],
   "source": [
    "investors_data = []\n",
    "with open('data/inv_clean_v1.csv', 'r') as file:\n",
    "    reader = csv.reader(file)\n",
    "    headers = next(reader)\n",
    "    for row in reader:\n",
    "        investors_data.append(dict(zip(headers, row)))\n",
    "\n",
    "inv_document = investors_data[35]"
   ]
  },
  {
   "cell_type": "code",
   "execution_count": 37,
   "metadata": {},
   "outputs": [
    {
     "data": {
      "text/plain": [
       "{'Name': 'Veronica Crisafulli',\n",
       " 'Company': 'MO Technologies',\n",
       " 'Email': 'veronica@wearemo.com',\n",
       " 'Industry': 'Financial Institutions and Services',\n",
       " 'Verticals': 'FinTech,Cryptocurrency/Blockchain',\n",
       " 'Target Customer': 'B2B',\n",
       " 'Geography': 'Colombia',\n",
       " 'Target Market (Locations)': 'Colombia',\n",
       " 'Investment Stage': 'Pre-SEED',\n",
       " 'Planned Raise Amount': '$1M to $2M',\n",
       " 'Market size': 'Over $10 Billion',\n",
       " 'Business Revenue Model': 'Transactional',\n",
       " 'Stage of development': 'Maturity Phase',\n",
       " 'Revenue/profitability': 'Recurring',\n",
       " 'Fundraising history': 'SEED,Bridge Round',\n",
       " 'Traction': 'Certifications,Paid Pilot,Partnerships',\n",
       " 'Team Key Roles & experience': 'Intermediate',\n",
       " 'Intellectual property': 'Weak',\n",
       " 'Competitive landscape': 'some competition',\n",
       " 'Customer Base (# paying clients)': '45.0',\n",
       " 'Growth potential': 'Low',\n",
       " 'Management experience': 'Serial entrepreneur ,Industry Influencer'}"
      ]
     },
     "execution_count": 37,
     "metadata": {},
     "output_type": "execute_result"
    }
   ],
   "source": [
    "founder_document = {k.replace('\\ufeffName', 'Name'): v for k, v in founder_document.items()}\n",
    "founder_document"
   ]
  },
  {
   "cell_type": "code",
   "execution_count": 43,
   "metadata": {},
   "outputs": [
    {
     "data": {
      "text/plain": [
       "{'\\ufeffInvestor Name': 'Tyler Steinke',\n",
       " 'Fund from Fund Master': 'Runway Innovation Hub',\n",
       " 'Target Customer': 'B2B',\n",
       " 'Industry Final': 'Financial Institutions and Services,Healthcare,Energy and Climate,Software and Information Services',\n",
       " 'Vertical Final': '3D Printing,AdTech,AgTech,Virtual/Augmented Reality,Autonomous cars',\n",
       " 'Investor Type': 'Accelerator/Incubator',\n",
       " 'Website': 'www.runway.is',\n",
       " 'Preferred Geography (from Fund from Fund Master)': 'Brazil, East Asia, Europe, Saudi Arabia, Southeast Asia, United States',\n",
       " 'Preferred Investment Stage': 'Pre-SEED,SEED',\n",
       " 'Preferred Investment Type': 'Convertible Debt,SAFE,Debt',\n",
       " 'Min check size': '$0.01',\n",
       " 'Max Check size': '$1.00',\n",
       " 'HQ Location': 'San Francisco, CA',\n",
       " 'URL (from Fund from Fund Master)': 'www.runway.is',\n",
       " 'Preferred TAM': '$5B to $10B',\n",
       " 'Impact Investor': 'Yes',\n",
       " 'Number of investments (Portfolio Size)': '50',\n",
       " 'Return Expectations': 'Over 5X and under 10X',\n",
       " 'Exit Strategy Preference': 'Acquisition,IPO',\n",
       " 'Network and Support Resources ': 'On Demand',\n",
       " 'Due diligence process': 'Accept Others DD Reports',\n",
       " 'Decision-making timeline': 'Weeks',\n",
       " 'Reputation': '',\n",
       " 'Portfolio Success Track Record (% Exits) ': '',\n",
       " 'Managers/LPs Turnover': '',\n",
       " '% Portfolio Diversity': '',\n",
       " 'Do follow-on rounds?': ''}"
      ]
     },
     "execution_count": 43,
     "metadata": {},
     "output_type": "execute_result"
    }
   ],
   "source": [
    "inv_document"
   ]
  },
  {
   "cell_type": "code",
   "execution_count": 44,
   "metadata": {},
   "outputs": [],
   "source": [
    "mc = generate_matching_criteria(founder_document, inv_document)"
   ]
  },
  {
   "cell_type": "code",
   "execution_count": 40,
   "metadata": {},
   "outputs": [
    {
     "name": "stdout",
     "output_type": "stream",
     "text": [
      "'''- The founder's name is: Veronica Crisafulli.\n",
      "- They have started a company whose name is MO Technologies.\n",
      "- The industry they are building the product for is Financial Institutions and Services and the specific verticals they are targetting are FinTech,Cryptocurrency/Blockchain.\n",
      "- Location where they are targetting their product for is, i.e their target customer location is : Colombia and they are looking out to raise money for Pre-SEED stage.\n",
      "- The amount they are targetting to raise for is around $1M to $2M and their main traction points are: Certifications,Paid Pilot,Partnerships.\n",
      "- Their Revenue/profitability at this moment is Recurring and their fundraising history is SEED,Bridge Round.\n",
      "- We should classify their products ip(Intellectual property) as Weak and the competitive landscape for them looks like some competition.\n",
      "- Number of customers that are paying for their B2B product is 45.0, B2B products have lesser customers than B2C products for obvious reasons and their growth potential is Low.'''\n"
     ]
    }
   ],
   "source": [
    "print(mc[0])"
   ]
  },
  {
   "cell_type": "code",
   "execution_count": 45,
   "metadata": {},
   "outputs": [
    {
     "name": "stdout",
     "output_type": "stream",
     "text": [
      "\"\"\"- We have Runway Innovation Hub as an investor.\n",
      "- They invest in businesses that build product in the industry of Financial Institutions and Services,Healthcare,Energy and Climate,Software and Information Services and specific verticals like 3D Printing,AdTech,AgTech,Virtual/Augmented Reality,Autonomous cars.\n",
      "- This investor can be classified as a Accelerator/Incubator and their preferred geography for investment is Brazil, East Asia, Europe, Saudi Arabia, Southeast Asia, United States.\n",
      "- They prefer to invest in Pre-SEED,SEED and provide their funds as Convertible Debt,SAFE,Debt.\n",
      "- They usually invest in B2B business.\n",
      "- The minimum amount they are planning to invest is $0.01 Million and the max investment they are planning to make is $1.00 Million. Impact Investor? Yes.\n",
      "- Their return expectations is Over 5X and under 10X and their network and support resources are On Demand.\n",
      "- Their decision making timeline is Weeks, this basically tell how much time do they take to come to conclusion whether they want to invest or not.\n",
      "- Out of 5 we can rate their reputation as  .\n",
      "\"\"\"\n"
     ]
    }
   ],
   "source": [
    "print(mc[1])"
   ]
  },
  {
   "cell_type": "code",
   "execution_count": 10,
   "metadata": {},
   "outputs": [
    {
     "data": {
      "text/plain": [
       "{'Name': 'Clair Marie McDade',\n",
       " 'Company': 'Archneura Inc.',\n",
       " 'Email': 'clairmarie@archneura.com',\n",
       " 'Industry': 'Real Estate',\n",
       " 'Verticals': 'Real Estate Technology,Construction Technology',\n",
       " 'Target Customer': 'B2C',\n",
       " 'Geography': 'United States of America (USA)',\n",
       " 'Target Market (Locations)': 'United States of America (USA)',\n",
       " 'Investment Stage': 'SEED',\n",
       " 'Planned Raise Amount': '$1M to $2M',\n",
       " 'Market size': '$5Billion to $10Billion',\n",
       " 'Business Revenue Model': 'Retail',\n",
       " 'Stage of development': 'SEED',\n",
       " 'Revenue/profitability': 'Recurring',\n",
       " 'Fundraising history': 'Friends and Family',\n",
       " 'Traction': 'Certifications,Awards & recognition',\n",
       " 'Team Key Roles & experience': 'Weak',\n",
       " 'Intellectual property': 'Strong ',\n",
       " 'Competitive landscape': 'No Competition',\n",
       " 'Customer Base (# paying clients)': '90.0',\n",
       " 'Growth potential': 'High',\n",
       " 'Management experience': 'Startup Professional,First time founder'}"
      ]
     },
     "execution_count": 10,
     "metadata": {},
     "output_type": "execute_result"
    }
   ],
   "source": [
    "founder_document"
   ]
  },
  {
   "cell_type": "code",
   "execution_count": 11,
   "metadata": {},
   "outputs": [
    {
     "data": {
      "text/plain": [
       "{'\\ufeffInvestor Name': 'Maarten Goossens',\n",
       " 'Fund from Fund Master': 'Anterra Capital',\n",
       " 'Target Customer': 'B2B',\n",
       " 'Industry Final': 'Agriculture & Forestry,Energy and Climate,Food and Beverage,Healthcare',\n",
       " 'Vertical Final': 'AgTech,Climate Tech,Digital Health,HealthTech,Beauty & Wellness',\n",
       " 'Investor Type': 'Venture Capital',\n",
       " 'Website': 'www.anterracapital.com',\n",
       " 'Preferred Geography (from Fund from Fund Master)': 'Asia, Canada, Europe, United States',\n",
       " 'Preferred Investment Stage': 'Pre-SEED,Series A,SEED',\n",
       " 'Preferred Investment Type': 'Convertible Debt,SAFE,Debt',\n",
       " 'Min check size': '$0.10',\n",
       " 'Max Check size': '$2.00',\n",
       " 'HQ Location': 'Amsterdam, Netherlands',\n",
       " 'URL (from Fund from Fund Master)': 'www.anterracapital.com',\n",
       " 'Preferred TAM': '$5B to $10B',\n",
       " 'Impact Investor': 'No',\n",
       " 'Number of investments (Portfolio Size)': '90',\n",
       " 'Return Expectations': '2X - 5X',\n",
       " 'Exit Strategy Preference': 'Acquisition,IPO',\n",
       " 'Network and Support Resources ': 'Heavily Supportive',\n",
       " 'Due diligence process': 'Heavily Involved ',\n",
       " 'Decision-making timeline': 'Months',\n",
       " 'Reputation': '',\n",
       " 'Portfolio Success Track Record (% Exits) ': '',\n",
       " 'Managers/LPs Turnover': '',\n",
       " '% Portfolio Diversity': '',\n",
       " 'Do follow-on rounds?': ''}"
      ]
     },
     "execution_count": 11,
     "metadata": {},
     "output_type": "execute_result"
    }
   ],
   "source": [
    "inv_document"
   ]
  },
  {
   "cell_type": "code",
   "execution_count": 12,
   "metadata": {},
   "outputs": [
    {
     "ename": "NameError",
     "evalue": "name 'investor_description' is not defined",
     "output_type": "error",
     "traceback": [
      "\u001b[0;31m---------------------------------------------------------------------------\u001b[0m",
      "\u001b[0;31mNameError\u001b[0m                                 Traceback (most recent call last)",
      "\u001b[1;32m/Volumes/T7/ML Projects/She Raises Capital/openai_evaluation.ipynb Cell 12\u001b[0m in \u001b[0;36m1\n\u001b[0;32m----> <a href='vscode-notebook-cell:/Volumes/T7/ML%20Projects/She%20Raises%20Capital/openai_evaluation.ipynb#X14sZmlsZQ%3D%3D?line=0'>1</a>\u001b[0m \u001b[39mprint\u001b[39m(investor_description)\n",
      "\u001b[0;31mNameError\u001b[0m: name 'investor_description' is not defined"
     ]
    }
   ],
   "source": [
    "print(investor_description)"
   ]
  },
  {
   "cell_type": "code",
   "execution_count": 13,
   "metadata": {},
   "outputs": [
    {
     "data": {
      "text/plain": [
       "{'score': 75,\n",
       " 'explanation': 'The match score is due to the overlap in targeted industry and the matching investment stage. However, the desired fundraising amount is on the higher edge of the investing range.'}"
      ]
     },
     "execution_count": 13,
     "metadata": {},
     "output_type": "execute_result"
    }
   ],
   "source": [
    "startup_description, investor_description = generate_matching_criteria(founder_document, inv_document)\n",
    "generate_matching_score(startup_description, investor_description)"
   ]
  },
  {
   "cell_type": "code",
   "execution_count": 67,
   "metadata": {},
   "outputs": [
    {
     "name": "stdout",
     "output_type": "stream",
     "text": [
      "Anterra Capital done\n",
      "Propel Venture Partners done\n",
      "Sevin Rosen Funds done\n",
      "Tuesday Capital done\n",
      "TeleSoft Partners done\n",
      "NAV.VC done\n",
      "SeedInvest done\n",
      "180 Degree Capital (NAS: TURN) done\n",
      "Brighter Capital done\n",
      "Tandem Capital done\n",
      "Tech Coast Angels done\n",
      "AI8 Ventures done\n",
      "Persephone Venture Partners done\n",
      "Leawood Venture Capital done\n",
      "Ben Jen Holdings done\n"
     ]
    }
   ],
   "source": [
    "import csv\n",
    "\n",
    "with open('matching_scores_1.csv', 'w', newline='') as file:\n",
    "    writer = csv.writer(file)\n",
    "    writer.writerow(['founder_info', 'investor_info', 'score', 'explanation'])\n",
    "    for inv_document in investors_data[:15]:\n",
    "        startup_description, investor_description = generate_matching_criteria(founder_document, inv_document)\n",
    "        matching_score = generate_matching_score(startup_description, investor_description)\n",
    "        # matching_score = generate_matching_score(founder_document, inv_document)\n",
    "        writer.writerow([startup_description, investor_description, matching_score['score'], matching_score['explanation']])\n",
    "        print(f\"{inv_document['Fund from Fund Master']} done\")"
   ]
  },
  {
   "cell_type": "code",
   "execution_count": 111,
   "metadata": {},
   "outputs": [
    {
     "name": "stdout",
     "output_type": "stream",
     "text": [
      "- Industry and vertical Criteria: Industry and vertical overlap is important, that doesn't mean each industry and vertical a investor is planning to invest in should be present in the founder portfolio, but something should overlap, if a founder is creating product for healthcare then healtcare or something closer to it should be there in the vertical or industry investor is planning to invest in. Maybe industry doesn't have it then something should be matching in verticals\n",
      "- Similary for Planned raised amount should be in between of min check size and max check size of investor(min check of 0.25 means 0.25 million dollars i.e. 250000 dollars, and this applies to max check size too). - Matching will also change based on for example round progress, if the investor min check sizze is $200k and a founder has only 150k left to raise in her round, that investor will not a match any more\n",
      "- Investment stage: Founder looking for seed fund should be getting a investor that is looking to invest in that stage, data will have other key aspects like early stage or late stage so context based knowdlege should be used for matching\n",
      "- Traction: Traction of founder i.e. what specialiality is it bring onboard and based on that how attractive they might seem to a investor should also be considered\n",
      "- Revenue: If the founder is already in revenue stage or early revenue stage and if that is recurring too, that would seem promising to an investor.\n",
      "- IP and Competitive landscape: This is another key aspect, how strong or weak the IP of the founder is and how competitive is there market, helps in projecting how much market will the be able to capture and how easily will the be able to generate return for founder, having a competitive market but strong IP can also make a founder lucrative\n",
      "- Target market location is important, a founder building product for a speicific geography then the investor should also be willing to invest in that location\n",
      "- For the rest, providing weightage is challenging. For many of the fields, they become relevant as a relative score given the context of comparing companies. For example, a medtech company with a FDA approval will be considered a better company to invest in vs another one with a potentially great product but no approval yet. So independently, both companies could get an equal matching score. We would love to see them not get the same score somehow.\n"
     ]
    }
   ],
   "source": [
    "print(\n",
    "    f\"\"\"- Industry and vertical Criteria: Industry and vertical overlap is important, that doesn't mean each industry and vertical a investor is planning to invest in \"\"\"\\\n",
    "                  f\"\"\"should be present in the founder portfolio, but something should overlap, if a founder is creating product for healthcare then healtcare or something closer to it \"\"\"\\\n",
    "                  f\"\"\"should be there in the vertical or industry investor is planning to invest in. Maybe industry doesn't have it then something should be matching in verticals\\n\"\"\"\\\n",
    "                  f\"\"\"- Similary for Planned raised amount should be in between of min check size and max check size of investor(min check of 0.25 means 0.25 million dollars i.e. 250000 dollars, and this applies to max check size too). \"\"\"\\\n",
    "                  f\"\"\"- Matching will also change based on for example round progress, if the investor min check sizze is $200k and a founder has only 150k left to raise in her round, that investor will not a match any more\\n\"\"\"\\\n",
    "                  f\"\"\"- Investment stage: Founder looking for seed fund should be getting a investor that is looking to invest in that stage, data will have other key aspects like early stage or late stage so context based knowdlege should be used for matching\\n\"\"\"\\\n",
    "                  f\"\"\"- Traction: Traction of founder i.e. what specialiality is it bring onboard and based on that how attractive they might seem to a investor should also be considered\\n\"\"\"\\\n",
    "                  f\"\"\"- Revenue: If the founder is already in revenue stage or early revenue stage and if that is recurring too, that would seem promising to an investor.\\n\"\"\"\\\n",
    "                  f\"\"\"- IP and Competitive landscape: This is another key aspect, how strong or weak the IP of the founder is and how competitive is there market, helps in projecting how much market \"\"\"\\\n",
    "                  f\"\"\"will the be able to capture and how easily will the be able to generate return for founder, having a competitive market but strong IP can also make a founder lucrative\\n\"\"\"\\\n",
    "                  f\"\"\"- Target market location is important, a founder building product for a speicific geography then the investor should also be willing to invest in that location\\n\"\"\"\\\n",
    "                  f\"\"\"- For the rest, providing weightage is challenging. For many of the fields, they become relevant as a relative score given the context of comparing companies. \"\"\"\\\n",
    "                  f\"\"\"For example, a medtech company with a FDA approval will be considered a better company to invest in vs another one with a potentially great product but no approval yet. \"\"\"\\\n",
    "                  f\"\"\"So independently, both companies could get an equal matching score. We would love to see them not get the same score somehow.\"\"\"\n",
    ")"
   ]
  },
  {
   "cell_type": "code",
   "execution_count": 121,
   "metadata": {},
   "outputs": [],
   "source": [
    "key_aspects = f\"\"\"- Industry and vertical Criteria: Industry and vertical overlap is important, that doesn't mean each industry and vertical a investor is planning to invest in \"\"\"\\\n",
    "                  f\"\"\"should be present in the founder portfolio, but something should overlap, if a founder is creating product for healthcare then healtcare or something closer to it \"\"\"\\\n",
    "                  f\"\"\"should be there in the vertical or industry investor is planning to invest in. Maybe industry doesn't have it then something should be matching in verticals\\n\"\"\"\\\n",
    "                  f\"\"\"- Similary for Planned raised amount should be in between of min check size and max check size of investor(min check of 0.25 means 0.25 million dollars i.e. 250000 dollars, and this applies to max check size too). \"\"\"\\\n",
    "                  f\"\"\"- Matching will also change based on for example round progress, if the investor min check sizze is $200k and a founder has only 150k left to raise in her round, that investor will not a match any more\\n\"\"\"\\\n",
    "                  f\"\"\"- Investment stage: Founder looking for seed fund should be getting a investor that is looking to invest in that stage, data will have other key aspects like early stage or late stage so context based knowdlege should be used for matching\\n\"\"\"\\\n",
    "                  f\"\"\"- Traction: Traction of founder i.e. what specialiality is it bring onboard and based on that how attractive they might seem to a investor should also be considered\\n\"\"\"\\\n",
    "                  f\"\"\"- Revenue: If the founder is already in revenue stage or early revenue stage and if that is recurring too, that would seem promising to an investor.\\n\"\"\"\\\n",
    "                  f\"\"\"- IP and Competitive landscape: This is another key aspect, how strong or weak the IP of the founder is and how competitive is there market, helps in projecting how much market \"\"\"\\\n",
    "                  f\"\"\"will the be able to capture and how easily will the be able to generate return for founder, having a competitive market but strong IP can also make a founder lucrative\\n\"\"\"\\\n",
    "                  f\"\"\"- Target market location is important, a founder building product for a speicific geography then the investor should also be willing to invest in that location\\n\"\"\"\\\n",
    "                  f\"\"\"- For the rest, providing weightage is challenging. For many of the fields, they become relevant as a relative score given the context of comparing companies. \"\"\"\\\n",
    "                  f\"\"\"For example, a medtech company with a FDA approval will be considered a better company to invest in vs another one with a potentially great product but no approval yet. \"\"\"\\\n",
    "                  f\"\"\"So independently, both companies could get an equal matching score. We would love to see them not get the same score somehow.\"\"\"\n",
    "user_context = f\"\"\"TASK: Generate matching criteria among a founder and investor\\n\"\"\" \\\n",
    "                    f\"\"\"KEY FACTORS TO CONSIDER:\\n{key_aspects}\"\"\"\\\n",
    "                    f\"\"\"Please take into account many other key aspects that you as an expert broker will take \\n\"\"\""
   ]
  },
  {
   "cell_type": "code",
   "execution_count": 122,
   "metadata": {},
   "outputs": [
    {
     "name": "stdout",
     "output_type": "stream",
     "text": [
      "TASK: Generate matching criteria among a founder and investor\n",
      "KEY FACTORS TO CONSIDER:\n",
      "- Industry and vertical Criteria: Industry and vertical overlap is important, that doesn't mean each industry and vertical a investor is planning to invest in should be present in the founder portfolio, but something should overlap, if a founder is creating product for healthcare then healtcare or something closer to it should be there in the vertical or industry investor is planning to invest in. Maybe industry doesn't have it then something should be matching in verticals\n",
      "- Similary for Planned raised amount should be in between of min check size and max check size of investor(min check of 0.25 means 0.25 million dollars i.e. 250000 dollars, and this applies to max check size too). - Matching will also change based on for example round progress, if the investor min check sizze is $200k and a founder has only 150k left to raise in her round, that investor will not a match any more\n",
      "- Investment stage: Founder looking for seed fund should be getting a investor that is looking to invest in that stage, data will have other key aspects like early stage or late stage so context based knowdlege should be used for matching\n",
      "- Traction: Traction of founder i.e. what specialiality is it bring onboard and based on that how attractive they might seem to a investor should also be considered\n",
      "- Revenue: If the founder is already in revenue stage or early revenue stage and if that is recurring too, that would seem promising to an investor.\n",
      "- IP and Competitive landscape: This is another key aspect, how strong or weak the IP of the founder is and how competitive is there market, helps in projecting how much market will the be able to capture and how easily will the be able to generate return for founder, having a competitive market but strong IP can also make a founder lucrative\n",
      "- Target market location is important, a founder building product for a speicific geography then the investor should also be willing to invest in that location\n",
      "- For the rest, providing weightage is challenging. For many of the fields, they become relevant as a relative score given the context of comparing companies. For example, a medtech company with a FDA approval will be considered a better company to invest in vs another one with a potentially great product but no approval yet. So independently, both companies could get an equal matching score. We would love to see them not get the same score somehow.Please take into account many other key aspects that you as an expert broker will take \n",
      "\n"
     ]
    }
   ],
   "source": [
    "print(user_context)"
   ]
  },
  {
   "cell_type": "code",
   "execution_count": null,
   "metadata": {},
   "outputs": [],
   "source": []
  }
 ],
 "metadata": {
  "kernelspec": {
   "display_name": "base",
   "language": "python",
   "name": "python3"
  },
  "language_info": {
   "codemirror_mode": {
    "name": "ipython",
    "version": 3
   },
   "file_extension": ".py",
   "mimetype": "text/x-python",
   "name": "python",
   "nbconvert_exporter": "python",
   "pygments_lexer": "ipython3",
   "version": "3.11.0"
  },
  "orig_nbformat": 4
 },
 "nbformat": 4,
 "nbformat_minor": 2
}
